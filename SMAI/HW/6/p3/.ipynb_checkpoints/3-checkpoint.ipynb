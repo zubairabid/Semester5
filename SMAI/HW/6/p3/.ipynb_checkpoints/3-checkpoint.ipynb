{
 "cells": [
  {
   "cell_type": "code",
   "execution_count": 6,
   "metadata": {},
   "outputs": [],
   "source": [
    "import numpy as np\n",
    "import math"
   ]
  },
  {
   "cell_type": "code",
   "execution_count": 3,
   "metadata": {},
   "outputs": [],
   "source": [
    "w1 = np.array([[0, 0], [0, 1], [2, 0], [3, 2], [3, 3], [2, 2], [2, 0]])\n",
    "w2 = np.array([[7, 7], [8, 6], [9, 7], [8, 10], [7, 10], [8, 9], [7, 11]])"
   ]
  },
  {
   "cell_type": "markdown",
   "metadata": {},
   "source": [
    "### Part a\n",
    "\n",
    "Prior Probability for each class (w1, w2)\n",
    "\n",
    "P(w1) = P(w2) = 0.5"
   ]
  },
  {
   "cell_type": "markdown",
   "metadata": {},
   "source": [
    "### Part b\n",
    "\n",
    "Mean and covariance matrix for each class"
   ]
  },
  {
   "cell_type": "code",
   "execution_count": 9,
   "metadata": {},
   "outputs": [
    {
     "name": "stdout",
     "output_type": "stream",
     "text": [
      "Mean of w1 is [1.71428571 1.14285714]\n",
      "Covariance matrix of w1 is \n",
      "[[1.57142857 0.88095238]\n",
      " [0.88095238 1.47619048]]\n",
      "\n",
      "Mean of w2 is [7.71428571 8.57142857]\n",
      "Covariance matrix of w2 is \n",
      "[[ 0.57142857 -0.64285714]\n",
      " [-0.64285714  3.61904762]]\n"
     ]
    }
   ],
   "source": [
    "print(\"Mean of w1 is {0}\".format(np.mean(w1, axis=0)))\n",
    "print(\"Covariance matrix of w1 is \\n{0}\".format(np.cov(np.transpose(w1))))\n",
    "print(\"\\nMean of w2 is {0}\".format(np.mean(w2, axis=0)))\n",
    "print(\"Covariance matrix of w2 is \\n{0}\".format(np.cov(np.transpose(w2))))"
   ]
  },
  {
   "cell_type": "code",
   "execution_count": null,
   "metadata": {},
   "outputs": [],
   "source": []
  },
  {
   "cell_type": "code",
   "execution_count": null,
   "metadata": {},
   "outputs": [],
   "source": []
  },
  {
   "cell_type": "code",
   "execution_count": 27,
   "metadata": {},
   "outputs": [
    {
     "data": {
      "image/png": "[encoded data removed]",
      "text/plain": [
       "<Figure size 432x288 with 1 Axes>"
      ]
     },
     "metadata": {
      "needs_background": "light"
     },
     "output_type": "display_data"
    }
   ],
   "source": [
    "import matplotlib.pyplot as plt\n",
    "\n",
    "xs = np.arange(10)\n",
    "ys = np.array([((math.sqrt(121.5711 - 5.3239*x - 0.2154 * x**2) - 7.5560)/0.4641) for x in xs])\n",
    "\n",
    "\n",
    "plt.scatter(w1[:,0], w1[:,1])\n",
    "plt.scatter(w2[:,0], w2[:,1])\n",
    "plt.plot(ys)\n",
    "\n",
    "plt.show()"
   ]
  },
  {
   "cell_type": "code",
   "execution_count": null,
   "metadata": {},
   "outputs": [],
   "source": []
  }
 ],
 "metadata": {
  "kernelspec": {
   "display_name": "Python 3",
   "language": "python",
   "name": "python3"
  },
  "language_info": {
   "codemirror_mode": {
    "name": "ipython",
    "version": 3
   },
   "file_extension": ".py",
   "mimetype": "text/x-python",
   "name": "python",
   "nbconvert_exporter": "python",
   "pygments_lexer": "ipython3",
   "version": "3.7.4"
  }
 },
 "nbformat": 4,
 "nbformat_minor": 2
}
