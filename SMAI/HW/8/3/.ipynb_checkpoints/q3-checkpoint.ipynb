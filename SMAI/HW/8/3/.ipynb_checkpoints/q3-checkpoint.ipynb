{
 "cells": [
  {
   "cell_type": "code",
   "execution_count": 1,
   "metadata": {},
   "outputs": [],
   "source": [
    "import numpy as np\n",
    "import matplotlib.pyplot as plt\n"
   ]
  },
  {
   "cell_type": "code",
   "execution_count": 264,
   "metadata": {},
   "outputs": [
    {
     "data": {
      "text/plain": [
       "array([[ 6,  5],\n",
       "       [12,  8],\n",
       "       [ 6,  9],\n",
       "       [12, 12]])"
      ]
     },
     "execution_count": 264,
     "metadata": {},
     "output_type": "execute_result"
    }
   ],
   "source": [
    "init_x = np.random.randint(10)\n",
    "init_y = np.random.randint(10)\n",
    "\n",
    "move_x = np.random.randint(10)\n",
    "move_y = np.random.randint(10)\n",
    "tilt_y = np.random.randint(5)\n",
    "\n",
    "points = [\n",
    "    [init_x, init_y],\n",
    "    [init_x+move_x, init_y+tilt_y],\n",
    "    [init_x, init_y+move_y],\n",
    "    [init_x+move_x, init_y+move_y+tilt_y],\n",
    "]\n",
    "\n",
    "points = np.array(points)\n",
    "points"
   ]
  },
  {
   "cell_type": "code",
   "execution_count": 265,
   "metadata": {
    "scrolled": true
   },
   "outputs": [
    {
     "name": "stdout",
     "output_type": "stream",
     "text": [
      "Mean:\n",
      "[9.  8.5]\n",
      "\n",
      "Centered:\n",
      "[[-2.5 -3.5]\n",
      " [ 2.5 -1.5]\n",
      " [-2.5  1.5]\n",
      " [ 2.5  3.5]]\n",
      "\n",
      "Cov:\n",
      "[[12.          6.        ]\n",
      " [ 6.          8.33333333]]\n",
      "\n",
      "Eigenvec:\n",
      "[[ 0.80380922 -0.59488716]\n",
      " [ 0.59488716  0.80380922]]\n",
      "\n",
      "Eigenval:\n",
      "[16.44051007  3.89282326]\n"
     ]
    }
   ],
   "source": [
    "mean = np.mean(points, axis=0)\n",
    "\n",
    "# centered = points - mean\n",
    "\n",
    "cov = np.cov(points.T)\n",
    "w, v = np.linalg.eig(cov.T)\n",
    "\n",
    "print(\"Mean:\\n{0}\".format(mean))\n",
    "print(\"\\nCentered:\\n{0}\".format(centered))\n",
    "print(\"\\nCov:\\n{0}\".format(cov))\n",
    "print(\"\\nEigenvec:\\n{0}\".format(v))\n",
    "print(\"\\nEigenval:\\n{0}\".format(w))\n"
   ]
  },
  {
   "cell_type": "code",
   "execution_count": 266,
   "metadata": {},
   "outputs": [
    {
     "data": {
      "text/plain": [
       "array([[ 0.80380922, -0.59488716],\n",
       "       [ 0.59488716,  0.80380922]])"
      ]
     },
     "execution_count": 266,
     "metadata": {},
     "output_type": "execute_result"
    }
   ],
   "source": [
    "v"
   ]
  },
  {
   "cell_type": "code",
   "execution_count": 268,
   "metadata": {},
   "outputs": [
    {
     "data": {
      "image/png": "[encoded data removed]",
      "text/plain": [
       "<Figure size 432x288 with 1 Axes>"
      ]
     },
     "metadata": {
      "needs_background": "light"
     },
     "output_type": "display_data"
    }
   ],
   "source": [
    "# plt.scatter(centered[:,0], centered[:,1])\n",
    "plt.scatter(points[:,0], points[:,1])\n",
    "plt.scatter(mean[0], mean[1])\n",
    "# plt.plot(v[0], v[1])\n",
    "# plt.plot(v)\n",
    "p = w*v\n",
    "# plt.quiver(mean[0], mean[1], v[0,:], v[1,:], scale=10, color=['b', 'r'])\n",
    "plt.quiver(mean[0], mean[1], p[0,:], p[1,:], scale=30, color=['b', 'r'])\n",
    "\n",
    "plt.show()"
   ]
  }
 ],
 "metadata": {
  "kernelspec": {
   "display_name": "Python 3",
   "language": "python",
   "name": "python3"
  },
  "language_info": {
   "codemirror_mode": {
    "name": "ipython",
    "version": 3
   },
   "file_extension": ".py",
   "mimetype": "text/x-python",
   "name": "python",
   "nbconvert_exporter": "python",
   "pygments_lexer": "ipython3",
   "version": "3.7.4"
  }
 },
 "nbformat": 4,
 "nbformat_minor": 2
}
