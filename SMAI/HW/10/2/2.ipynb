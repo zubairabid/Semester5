{
 "cells": [
  {
   "cell_type": "code",
   "execution_count": 98,
   "metadata": {},
   "outputs": [],
   "source": [
    "import pandas as pd\n",
    "import numpy as np\n",
    "import matplotlib.pyplot as plt"
   ]
  },
  {
   "cell_type": "code",
   "execution_count": 162,
   "metadata": {
    "scrolled": true
   },
   "outputs": [],
   "source": [
    "data = pd.read_csv(\"wine.data\", header=None)\n",
    "\n",
    "labels = data[data.columns[:1]]\n",
    "data = data[data.columns[1:]]\n",
    "\n",
    "mean = data.mean(axis=0)\n",
    "ndata = (data-data.mean())/(data.std())"
   ]
  },
  {
   "cell_type": "code",
   "execution_count": null,
   "metadata": {},
   "outputs": [],
   "source": []
  },
  {
   "cell_type": "code",
   "execution_count": 155,
   "metadata": {},
   "outputs": [
    {
     "data": {
      "text/plain": [
       "<matplotlib.collections.PathCollection at 0x7fdc27f22f10>"
      ]
     },
     "execution_count": 155,
     "metadata": {},
     "output_type": "execute_result"
    },
    {
     "data": {
      "image/png": "[encoded data removed]",
      "text/plain": [
       "<Figure size 432x288 with 1 Axes>"
      ]
     },
     "metadata": {
      "needs_background": "light"
     },
     "output_type": "display_data"
    }
   ],
   "source": [
    "cov = ndata.cov()\n",
    "w, v = np.linalg.eigh(cov)\n",
    "\n",
    "fig = plt.figure()\n",
    "q1 = fig.add_subplot(111, title=\"Plotting normalised covariance\")\n",
    "q1.scatter(range(len(w)), w)"
   ]
  },
  {
   "cell_type": "code",
   "execution_count": 166,
   "metadata": {},
   "outputs": [
    {
     "name": "stdout",
     "output_type": "stream",
     "text": [
      "(178, 13)\n",
      "(13, 2)\n",
      "(178, 2)\n",
      "[[ 1.43940225 -3.30742097]\n",
      " [-0.33245507 -2.20324981]\n",
      " [ 1.02825072 -2.50966069]\n",
      " [ 2.74861839 -3.74649719]\n",
      " [ 0.86738404 -1.00607049]\n",
      " [ 2.11643092 -3.04167373]\n",
      " [ 1.17154534 -2.44220051]\n",
      " [ 1.60443714 -2.05364379]\n",
      " [ 0.91548847 -2.50381135]\n",
      " [ 0.78721703 -2.74588238]\n",
      " [ 1.29866985 -3.46994837]\n",
      " [ 0.61025577 -1.74981688]\n",
      " [ 0.67380561 -2.10751729]\n",
      " [ 1.12744948 -3.44842921]\n",
      " [ 2.09007971 -4.30065228]\n",
      " [ 1.65787506 -2.29870383]\n",
      " [ 2.32075875 -2.16584568]\n",
      " [ 1.62677993 -1.89362947]\n",
      " [ 2.51125971 -3.53202167]\n",
      " [ 1.05815307 -2.07865856]\n",
      " [ 0.78468361 -3.11561376]\n",
      " [ 0.24106354 -1.08351361]\n",
      " [-0.09158228 -2.52809263]\n",
      " [-0.51482667 -1.64036108]\n",
      " [-0.31625681 -1.75662066]\n",
      " [ 0.93802129 -0.98729406]\n",
      " [ 0.68424496 -1.77028387]\n",
      " [-0.08955442 -1.23194878]\n",
      " [ 0.6876299  -2.18225047]\n",
      " [ 0.19092336 -2.24976267]\n",
      " [ 1.23734344 -2.49318704]\n",
      " [ 1.46773335 -2.66987964]\n",
      " [ 0.0525562  -1.62399801]\n",
      " [ 1.62846673 -1.8973387 ]\n",
      " [ 0.69597107 -1.40642118]\n",
      " [ 0.17621387 -1.89847087]\n",
      " [ 0.65678714 -1.38096669]\n",
      " [ 0.11378878 -1.1190507 ]\n",
      " [-0.76726764 -1.49796891]\n",
      " [ 1.79793023 -2.5226849 ]\n",
      " [ 0.77742329 -2.58081526]\n",
      " [ 0.16948285 -0.66660159]\n",
      " [ 1.15266742 -3.06216898]\n",
      " [ 0.32981177 -0.46090897]\n",
      " [-0.07080918 -2.09544094]\n",
      " [ 1.77210849 -1.1329702 ]\n",
      " [ 1.18798353 -2.71893118]\n",
      " [ 0.64444071 -2.813403  ]\n",
      " [ 1.24352164 -2.00419725]\n",
      " [ 1.74703922 -2.69987528]\n",
      " [ 0.16652226 -3.20587409]\n",
      " [ 0.74318238 -2.85091773]\n",
      " [ 1.60819732 -3.49574328]\n",
      " [ 1.86989325 -2.21853316]\n",
      " [ 1.01389147 -2.14094846]\n",
      " [ 1.32526988 -2.4623834 ]\n",
      " [ 1.43250785 -2.73380617]\n",
      " [ 1.20878999 -2.16762631]\n",
      " [ 1.72670828 -3.13054925]\n",
      " [-3.06484062  0.92596992]\n",
      " [-1.37755758  1.53814123]\n",
      " [-0.82764942  1.83108449]\n",
      " [-1.259234   -0.03052074]\n",
      " [-1.91961759 -2.04449433]\n",
      " [-1.90269154  0.60796583]\n",
      " [-0.76176263 -0.89769555]\n",
      " [-1.87929123 -2.24218226]\n",
      " [-2.42031869 -0.18286818]\n",
      " [-0.21989369  0.81051865]\n",
      " [-1.39933587 -1.97006319]\n",
      " [-0.88249373  1.56779366]\n",
      " [-0.95402102 -1.65301884]\n",
      " [-1.06065342  0.72333196]\n",
      " [ 0.25946663 -2.55501977]\n",
      " [-1.28425547 -1.82741266]\n",
      " [-2.43722606  0.86555129]\n",
      " [-2.14784815 -0.36897357]\n",
      " [-1.37946048  1.45327752]\n",
      " [-0.76868117 -1.25937829]\n",
      " [-1.02415439 -0.37509228]\n",
      " [-3.36555997 -0.75992026]\n",
      " [-1.44662897 -1.03166776]\n",
      " [-2.37454522  0.49348469]\n",
      " [-0.08719738  2.53183508]\n",
      " [-1.4695252  -0.83297044]\n",
      " [-2.02092573 -0.78568828]\n",
      " [-2.22754675  0.80456258]\n",
      " [-2.36631035  0.55647288]\n",
      " [-1.79717757  1.1119743 ]\n",
      " [-2.65006452  0.55415961]\n",
      " [-2.11204365  1.34548982]\n",
      " [-1.84700434  1.5600818 ]\n",
      " [-1.55510868  1.92711944]\n",
      " [-2.30642556 -0.74456561]\n",
      " [-2.21727377 -0.95476209]\n",
      " [ 0.16879786 -2.53670943]\n",
      " [-0.36788878  0.54242248]\n",
      " [-2.55835254 -1.02814946]\n",
      " [-1.42871116 -2.24557492]\n",
      " [-2.16009839 -1.40624916]\n",
      " [-2.37026258 -0.79547585]\n",
      " [-2.2866782   0.54798592]\n",
      " [-1.16120769  0.16072037]\n",
      " [-2.6724226   0.65793897]\n",
      " [-2.09282809 -0.39125074]\n",
      " [-1.71245783  1.76751314]\n",
      " [-2.16325103  0.36523707]\n",
      " [-1.35177021  1.61611371]\n",
      " [-2.29974728 -0.08230361]\n",
      " [-1.45792167 -1.57383547]\n",
      " [-1.4142173  -1.41657326]\n",
      " [-1.92513751  0.27791878]\n",
      " [-0.76102555  1.29947929]\n",
      " [-2.26303187  0.45578615]\n",
      " [-1.93359062  0.49279573]\n",
      " [-3.86089273 -0.48071836]\n",
      " [-2.81355567  0.25217752]\n",
      " [-1.92349609  0.10692601]\n",
      " [-1.25360477  2.42616867]\n",
      " [-2.21591073  0.54953935]\n",
      " [-1.40499335 -0.73754141]\n",
      " [ 0.25262431 -1.33256273]\n",
      " [-0.66209914  1.17377592]\n",
      " [-0.61654897  0.46103449]\n",
      " [-1.44150419 -0.97572169]\n",
      " [-2.10406268  0.09653741]\n",
      " [-1.26319878 -0.03837888]\n",
      " [-1.20474513  1.59266578]\n",
      " [-1.93338681  0.47821593]\n",
      " [-1.14705241  1.78779033]\n",
      " [ 0.16990994  1.32336859]\n",
      " [ 0.37352893  2.37779336]\n",
      " [ 0.2631196   2.92867865]\n",
      " [ 0.36721907  2.14077227]\n",
      " [-0.45834188  2.36320318]\n",
      " [ 0.3524187   3.05522315]\n",
      " [ 0.15414769  3.90473898]\n",
      " [ 0.65783157  3.92539034]\n",
      " [ 0.34786148  3.08557209]\n",
      " [ 0.29115903  2.36779237]\n",
      " [ 0.28599811  2.7709963 ]\n",
      " [ 0.37146     2.28012931]\n",
      " [ 0.48784177  2.97723506]\n",
      " [ 0.48097694  2.36851341]\n",
      " [ 1.15678934  2.2036493 ]\n",
      " [ 0.56157662  2.61823528]\n",
      " [ 0.64784348  4.26859758]\n",
      " [ 1.26912271  3.5725636 ]\n",
      " [ 1.56611596  2.7991676 ]\n",
      " [ 2.03531563  2.89150275]\n",
      " [ 2.34973775  2.31420887]\n",
      " [ 2.03952982  2.54265841]\n",
      " [ 1.52334876  1.80744271]\n",
      " [ 2.13291565  2.75238051]\n",
      " [ 0.40873328  2.72945105]\n",
      " [ 1.79731421  3.59472857]\n",
      " [ 1.91980308  2.88169708]\n",
      " [ 1.30818615  3.38261413]\n",
      " [ 3.50520194  1.04523342]\n",
      " [ 2.39986842  1.60538369]\n",
      " [ 0.73608464  3.13428951]\n",
      " [ 1.17215877  2.23385546]\n",
      " [ 0.55447984  2.83966343]\n",
      " [ 0.6960022   2.59019044]\n",
      " [ 1.55093397  2.94100316]\n",
      " [ 0.8800443   3.52010248]\n",
      " [ 2.58506402  2.39934228]\n",
      " [ 1.270862    2.92084537]\n",
      " [ 2.07169331  2.17527658]\n",
      " [ 2.58138565  2.37423037]\n",
      " [-0.25054235  3.20258311]\n",
      " [ 0.84536318  3.66757294]\n",
      " [ 2.18762727  2.45862032]\n",
      " [ 2.21005484  3.36104305]\n",
      " [ 1.75228636  2.59463669]\n",
      " [ 2.75313287  2.67030685]\n",
      " [ 2.29088437  2.38030254]\n",
      " [ 2.76113075  3.1997321 ]]\n"
     ]
    }
   ],
   "source": [
    "l2 = v[:,-2:]\n",
    "fin = ndata.dot(l2)\n",
    "fin = np.matrix(fin)\n",
    "\n",
    "print(np.shape(data))\n",
    "print(np.shape(l2))\n",
    "print(np.shape(fin))\n",
    "print(fin)"
   ]
  },
  {
   "cell_type": "code",
   "execution_count": 135,
   "metadata": {
    "scrolled": true
   },
   "outputs": [],
   "source": []
  },
  {
   "cell_type": "code",
   "execution_count": 168,
   "metadata": {},
   "outputs": [
    {
     "data": {
      "text/plain": [
       "<matplotlib.collections.PathCollection at 0x7fdc27ec8c90>"
      ]
     },
     "execution_count": 168,
     "metadata": {},
     "output_type": "execute_result"
    },
    {
     "data": {
      "image/png": "[encoded data removed]",
      "text/plain": [
       "<Figure size 432x288 with 1 Axes>"
      ]
     },
     "metadata": {
      "needs_background": "light"
     },
     "output_type": "display_data"
    }
   ],
   "source": [
    "fig2 = plt.figure()\n",
    "q1 = fig2.add_subplot(111, title=\"Projected Data\")\n",
    "q1.scatter(np.array(fin[:59,0]),np.array(fin[:59,1]),c='r')\n",
    "q1.scatter(np.array(fin[59:131,0]),np.array(fin[59:131,1]),c='y')\n",
    "q1.scatter(np.array(fin[131:,0]),np.array(fin[131:,1]),c='b')"
   ]
  },
  {
   "cell_type": "code",
   "execution_count": 106,
   "metadata": {},
   "outputs": [],
   "source": [
    "plt.show()"
   ]
  }
 ],
 "metadata": {
  "kernelspec": {
   "display_name": "Python 3",
   "language": "python",
   "name": "python3"
  },
  "language_info": {
   "codemirror_mode": {
    "name": "ipython",
    "version": 3
   },
   "file_extension": ".py",
   "mimetype": "text/x-python",
   "name": "python",
   "nbconvert_exporter": "python",
   "pygments_lexer": "ipython3",
   "version": "3.7.4"
  }
 },
 "nbformat": 4,
 "nbformat_minor": 2
}
