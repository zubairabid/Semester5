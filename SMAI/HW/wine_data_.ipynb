{
 "cells": [
  {
   "cell_type": "code",
   "execution_count": 1,
   "metadata": {},
   "outputs": [],
   "source": [
    "# Statistical Methods in Artificial Intelligence\n",
    "# Problem Set 12\n",
    "# Solution to Problem Number 3\n",
    "# Author: Sayar Ghosh Roy"
   ]
  },
  {
   "cell_type": "code",
   "execution_count": 1,
   "metadata": {},
   "outputs": [
    {
     "ename": "OSError",
     "evalue": "wine.csv not found.",
     "output_type": "error",
     "traceback": [
      "\u001b[0;31m---------------------------------------------------------------------------\u001b[0m",
      "\u001b[0;31mOSError\u001b[0m                                   Traceback (most recent call last)",
      "\u001b[0;32m<ipython-input-1-51b59e3d0aae>\u001b[0m in \u001b[0;36m<module>\u001b[0;34m\u001b[0m\n\u001b[1;32m      2\u001b[0m \u001b[0;32mimport\u001b[0m \u001b[0mmatplotlib\u001b[0m\u001b[0;34m.\u001b[0m\u001b[0mpyplot\u001b[0m \u001b[0;32mas\u001b[0m \u001b[0mplt\u001b[0m\u001b[0;34m\u001b[0m\u001b[0;34m\u001b[0m\u001b[0m\n\u001b[1;32m      3\u001b[0m \u001b[0;34m\u001b[0m\u001b[0m\n\u001b[0;32m----> 4\u001b[0;31m \u001b[0mdata_matrix\u001b[0m \u001b[0;34m=\u001b[0m \u001b[0mnp\u001b[0m\u001b[0;34m.\u001b[0m\u001b[0mgenfromtxt\u001b[0m\u001b[0;34m(\u001b[0m\u001b[0;34m'wine.csv'\u001b[0m\u001b[0;34m,\u001b[0m \u001b[0mdelimiter\u001b[0m\u001b[0;34m=\u001b[0m\u001b[0;34m\",\"\u001b[0m\u001b[0;34m)\u001b[0m\u001b[0;34m\u001b[0m\u001b[0;34m\u001b[0m\u001b[0m\n\u001b[0m\u001b[1;32m      5\u001b[0m \u001b[0;34m\u001b[0m\u001b[0m\n\u001b[1;32m      6\u001b[0m \u001b[0mtrain_data\u001b[0m \u001b[0;34m=\u001b[0m \u001b[0mdata_matrix\u001b[0m\u001b[0;34m[\u001b[0m\u001b[0;36m1\u001b[0m\u001b[0;34m:\u001b[0m\u001b[0;36m1001\u001b[0m\u001b[0;34m,\u001b[0m\u001b[0;36m0\u001b[0m\u001b[0;34m:\u001b[0m\u001b[0;36m11\u001b[0m\u001b[0;34m]\u001b[0m\u001b[0;34m\u001b[0m\u001b[0;34m\u001b[0m\u001b[0m\n",
      "\u001b[0;32m~/anaconda3/envs/SMAI/lib/python3.7/site-packages/numpy/lib/npyio.py\u001b[0m in \u001b[0;36mgenfromtxt\u001b[0;34m(fname, dtype, comments, delimiter, skip_header, skip_footer, converters, missing_values, filling_values, usecols, names, excludelist, deletechars, replace_space, autostrip, case_sensitive, defaultfmt, unpack, usemask, loose, invalid_raise, max_rows, encoding)\u001b[0m\n\u001b[1;32m   1742\u001b[0m             \u001b[0mfname\u001b[0m \u001b[0;34m=\u001b[0m \u001b[0mos_fspath\u001b[0m\u001b[0;34m(\u001b[0m\u001b[0mfname\u001b[0m\u001b[0;34m)\u001b[0m\u001b[0;34m\u001b[0m\u001b[0;34m\u001b[0m\u001b[0m\n\u001b[1;32m   1743\u001b[0m         \u001b[0;32mif\u001b[0m \u001b[0misinstance\u001b[0m\u001b[0;34m(\u001b[0m\u001b[0mfname\u001b[0m\u001b[0;34m,\u001b[0m \u001b[0mbasestring\u001b[0m\u001b[0;34m)\u001b[0m\u001b[0;34m:\u001b[0m\u001b[0;34m\u001b[0m\u001b[0;34m\u001b[0m\u001b[0m\n\u001b[0;32m-> 1744\u001b[0;31m             \u001b[0mfhd\u001b[0m \u001b[0;34m=\u001b[0m \u001b[0miter\u001b[0m\u001b[0;34m(\u001b[0m\u001b[0mnp\u001b[0m\u001b[0;34m.\u001b[0m\u001b[0mlib\u001b[0m\u001b[0;34m.\u001b[0m\u001b[0m_datasource\u001b[0m\u001b[0;34m.\u001b[0m\u001b[0mopen\u001b[0m\u001b[0;34m(\u001b[0m\u001b[0mfname\u001b[0m\u001b[0;34m,\u001b[0m \u001b[0;34m'rt'\u001b[0m\u001b[0;34m,\u001b[0m \u001b[0mencoding\u001b[0m\u001b[0;34m=\u001b[0m\u001b[0mencoding\u001b[0m\u001b[0;34m)\u001b[0m\u001b[0;34m)\u001b[0m\u001b[0;34m\u001b[0m\u001b[0;34m\u001b[0m\u001b[0m\n\u001b[0m\u001b[1;32m   1745\u001b[0m             \u001b[0mown_fhd\u001b[0m \u001b[0;34m=\u001b[0m \u001b[0;32mTrue\u001b[0m\u001b[0;34m\u001b[0m\u001b[0;34m\u001b[0m\u001b[0m\n\u001b[1;32m   1746\u001b[0m         \u001b[0;32melse\u001b[0m\u001b[0;34m:\u001b[0m\u001b[0;34m\u001b[0m\u001b[0;34m\u001b[0m\u001b[0m\n",
      "\u001b[0;32m~/anaconda3/envs/SMAI/lib/python3.7/site-packages/numpy/lib/_datasource.py\u001b[0m in \u001b[0;36mopen\u001b[0;34m(path, mode, destpath, encoding, newline)\u001b[0m\n\u001b[1;32m    264\u001b[0m \u001b[0;34m\u001b[0m\u001b[0m\n\u001b[1;32m    265\u001b[0m     \u001b[0mds\u001b[0m \u001b[0;34m=\u001b[0m \u001b[0mDataSource\u001b[0m\u001b[0;34m(\u001b[0m\u001b[0mdestpath\u001b[0m\u001b[0;34m)\u001b[0m\u001b[0;34m\u001b[0m\u001b[0;34m\u001b[0m\u001b[0m\n\u001b[0;32m--> 266\u001b[0;31m     \u001b[0;32mreturn\u001b[0m \u001b[0mds\u001b[0m\u001b[0;34m.\u001b[0m\u001b[0mopen\u001b[0m\u001b[0;34m(\u001b[0m\u001b[0mpath\u001b[0m\u001b[0;34m,\u001b[0m \u001b[0mmode\u001b[0m\u001b[0;34m,\u001b[0m \u001b[0mencoding\u001b[0m\u001b[0;34m=\u001b[0m\u001b[0mencoding\u001b[0m\u001b[0;34m,\u001b[0m \u001b[0mnewline\u001b[0m\u001b[0;34m=\u001b[0m\u001b[0mnewline\u001b[0m\u001b[0;34m)\u001b[0m\u001b[0;34m\u001b[0m\u001b[0;34m\u001b[0m\u001b[0m\n\u001b[0m\u001b[1;32m    267\u001b[0m \u001b[0;34m\u001b[0m\u001b[0m\n\u001b[1;32m    268\u001b[0m \u001b[0;34m\u001b[0m\u001b[0m\n",
      "\u001b[0;32m~/anaconda3/envs/SMAI/lib/python3.7/site-packages/numpy/lib/_datasource.py\u001b[0m in \u001b[0;36mopen\u001b[0;34m(self, path, mode, encoding, newline)\u001b[0m\n\u001b[1;32m    622\u001b[0m                                       encoding=encoding, newline=newline)\n\u001b[1;32m    623\u001b[0m         \u001b[0;32melse\u001b[0m\u001b[0;34m:\u001b[0m\u001b[0;34m\u001b[0m\u001b[0;34m\u001b[0m\u001b[0m\n\u001b[0;32m--> 624\u001b[0;31m             \u001b[0;32mraise\u001b[0m \u001b[0mIOError\u001b[0m\u001b[0;34m(\u001b[0m\u001b[0;34m\"%s not found.\"\u001b[0m \u001b[0;34m%\u001b[0m \u001b[0mpath\u001b[0m\u001b[0;34m)\u001b[0m\u001b[0;34m\u001b[0m\u001b[0;34m\u001b[0m\u001b[0m\n\u001b[0m\u001b[1;32m    625\u001b[0m \u001b[0;34m\u001b[0m\u001b[0m\n\u001b[1;32m    626\u001b[0m \u001b[0;34m\u001b[0m\u001b[0m\n",
      "\u001b[0;31mOSError\u001b[0m: wine.csv not found."
     ]
    }
   ],
   "source": [
    "import numpy as np\n",
    "import matplotlib.pyplot as plt\n",
    "\n",
    "data_matrix = np.genfromtxt('wine.csv', delimiter=\",\")\n",
    "\n",
    "train_data = data_matrix[1:1001,0:11]\n",
    "train_means = np.mean(train_data, axis = 0)\n",
    "train_var = np.var(train_data, axis = 0)\n",
    "train_data = (train_data - train_means) / np.sqrt(train_var)\n",
    "\n",
    "test_data = data_matrix[1001:, 0:11]\n",
    "\n",
    "train_labels = data_matrix[1:1001, 11]\n",
    "test_labels = data_matrix[1001:, 11]"
   ]
  },
  {
   "cell_type": "code",
   "execution_count": 3,
   "metadata": {},
   "outputs": [],
   "source": [
    "Hessian = np.zeros((train_data.shape[1], train_data.shape[1]))\n",
    "for i in range(train_data.shape[1]):\n",
    "    for j in range(train_data.shape[1]):\n",
    "        res = 0\n",
    "        for k in range(train_data.shape[0]):\n",
    "            res = res + (train_data[k][i] * train_data[k][j])\n",
    "            Hessian[i][j] = res / train_data.shape[0]\n",
    "\n",
    "Hessian = Hessian * 2\n",
    "            \n",
    "H_inv = np.linalg.inv(Hessian)"
   ]
  },
  {
   "cell_type": "code",
   "execution_count": 4,
   "metadata": {},
   "outputs": [],
   "source": [
    "#print(train_labels)\n",
    "#print(np.shape(train_labels))"
   ]
  },
  {
   "cell_type": "code",
   "execution_count": 5,
   "metadata": {},
   "outputs": [],
   "source": [
    "#print(train_data)\n",
    "#print(np.shape(train_data))\n",
    "\n",
    "#print(np.mean(train_data, axis = 0))"
   ]
  },
  {
   "cell_type": "code",
   "execution_count": 6,
   "metadata": {},
   "outputs": [],
   "source": [
    "iter_counts = []"
   ]
  },
  {
   "cell_type": "code",
   "execution_count": 7,
   "metadata": {},
   "outputs": [
    {
     "name": "stdout",
     "output_type": "stream",
     "text": [
      "Using Normal Gradient Descent:\n",
      "Final Weights : [ 0.06631995 -0.17763792 -0.04048215  0.03725833 -0.07147423  0.03187237\n",
      " -0.14079713 -0.05304304 -0.02811342  0.13062319  0.28926005]\n",
      "Required Number of Iterations : 237\n"
     ]
    }
   ],
   "source": [
    "# Using Normal Gradient Descent\n",
    "print(\"Using Normal Gradient Descent:\")\n",
    "w_old = np.zeros(11)\n",
    "w = np.ones(11)\n",
    "learn_rate = 0.25\n",
    "\n",
    "count = 0\n",
    "while (np.linalg.norm(w - w_old) > 0.00001):\n",
    "    sum_mat = np.zeros(11)\n",
    "    for i in range(len(train_labels)):\n",
    "        store = train_labels[i] - np.dot(w, train_data[i])\n",
    "        store = (-1) * store * train_data[i]\n",
    "        sum_mat = sum_mat + store\n",
    "    \n",
    "    del_J = (2 / len(train_data)) * sum_mat\n",
    "    w_old = w\n",
    "    w = w - learn_rate * del_J\n",
    "    count += 1\n",
    "    if(count > 1000):\n",
    "        break\n",
    "        \n",
    "print(\"Final Weights :\", w)\n",
    "print(\"Required Number of Iterations :\", count)\n",
    "iter_counts.append(count)"
   ]
  },
  {
   "cell_type": "code",
   "execution_count": 8,
   "metadata": {},
   "outputs": [
    {
     "name": "stdout",
     "output_type": "stream",
     "text": [
      "Loss : 31.704978380504297\n"
     ]
    }
   ],
   "source": [
    "res = 0\n",
    "for i in range(len(train_labels)):\n",
    "    res = res + np.power((train_labels[i] - np.dot(w, train_data[i])), 2)\n",
    "res = res / len(train_labels)\n",
    "print(\"Loss :\", res)"
   ]
  },
  {
   "cell_type": "code",
   "execution_count": 9,
   "metadata": {},
   "outputs": [
    {
     "name": "stdout",
     "output_type": "stream",
     "text": [
      "Using Gradient Descent with optimal learning rate:\n",
      "Final Weights : [ 0.18491389 -0.17450241 -0.05042812  0.06734542 -0.05757667  0.02154474\n",
      " -0.1265946  -0.14186091  0.03102176  0.14174994  0.24007141]\n",
      "Number of iterations : 30\n",
      "Loss : 31.706849496731717\n"
     ]
    }
   ],
   "source": [
    "# Using Gradient Descent with optimal learning rate\n",
    "print(\"Using Gradient Descent with optimal learning rate:\")\n",
    "w_old = np.zeros(11)\n",
    "w = np.ones(11)\n",
    "learn_rate = 0.25\n",
    "\n",
    "count = 0\n",
    "while (np.linalg.norm(w - w_old) > 0.01):\n",
    "    sum_mat = np.zeros(11)\n",
    "    for i in range(len(train_labels)):\n",
    "        store = train_labels[i] - np.dot(w, train_data[i])\n",
    "        store = (-1) * store * train_data[i]\n",
    "        sum_mat = sum_mat + store\n",
    "    del_J = (2 / len(train_data)) * sum_mat\n",
    "    w_old = w\n",
    "    learn_rate = np.power(np.linalg.norm(del_J), 2) / (np.dot(del_J, np.dot(Hessian, del_J)))\n",
    "    w = w - learn_rate * del_J\n",
    "    count += 1\n",
    "    if(count > 1000):\n",
    "        break\n",
    "        \n",
    "print(\"Final Weights :\", w)\n",
    "print(\"Number of iterations :\", count)\n",
    "iter_counts.append(count)\n",
    "\n",
    "res = 0\n",
    "for i in range(len(train_labels)):\n",
    "    res = res + np.power((train_labels[i] - np.dot(w, train_data[i])), 2)\n",
    "res = res / len(train_labels)\n",
    "print(\"Loss :\", res)"
   ]
  },
  {
   "cell_type": "code",
   "execution_count": 10,
   "metadata": {},
   "outputs": [
    {
     "name": "stdout",
     "output_type": "stream",
     "text": [
      "Using Gradient Descent with Newton's Method:\n",
      "Final Weights : [ 0.06610812 -0.17764004 -0.04045245  0.03720737 -0.07150087  0.03189306\n",
      " -0.14082744 -0.05288596 -0.02822018  0.13060648  0.28934333]\n",
      "Number of iterations : 2\n",
      "Loss : 31.704978374704403\n"
     ]
    }
   ],
   "source": [
    "# Using Gradient Descent with Newton's Method\n",
    "print(\"Using Gradient Descent with Newton's Method:\")\n",
    "w_old = np.zeros(11)\n",
    "w = np.ones(11)\n",
    "learn_rate = 0.25\n",
    "\n",
    "count = 0\n",
    "while (np.linalg.norm(w - w_old) > 0.01):\n",
    "    sum_mat = np.zeros(11)\n",
    "    for i in range(len(train_labels)):\n",
    "        store = train_labels[i] - np.dot(w, train_data[i])\n",
    "        store = (-1) * store * train_data[i]\n",
    "        sum_mat = sum_mat + store\n",
    "    del_J = (2 / len(train_data)) * sum_mat\n",
    "    w_old = w\n",
    "    w = w - np.matmul(H_inv, del_J)\n",
    "    count += 1\n",
    "    if(count > 1000):\n",
    "        break\n",
    "        \n",
    "print(\"Final Weights :\", w)\n",
    "print(\"Number of iterations :\", count)\n",
    "iter_counts.append(count)\n",
    "\n",
    "res = 0\n",
    "for i in range(len(train_labels)):\n",
    "    res = res + np.power((train_labels[i] - np.dot(w, train_data[i])), 2)\n",
    "res = res / len(train_labels)\n",
    "print(\"Loss :\", res)"
   ]
  },
  {
   "cell_type": "code",
   "execution_count": 11,
   "metadata": {},
   "outputs": [
    {
     "data": {
      "image/png": "[encoded data removed]",
      "text/plain": [
       "<Figure size 432x288 with 1 Axes>"
      ]
     },
     "metadata": {
      "needs_background": "light"
     },
     "output_type": "display_data"
    }
   ],
   "source": [
    "x_keys = ['Normal', 'Optimal Learning Rate', 'Newton\\'s method']\n",
    "x =  [i for i, _ in enumerate(x_keys)]\n",
    "y = [ i for i in iter_counts]\n",
    "plt.figure()\n",
    "plt.title(\"Iterations Count Illustration\")\n",
    "plt.xlabel(\"Type of Gradient Descent\")\n",
    "plt.ylabel('Number of Iterations')\n",
    "plt.bar(x, y, color='green')\n",
    "plt.xticks(x, x_keys, color = 'green')\n",
    "plt.show()"
   ]
  },
  {
   "cell_type": "code",
   "execution_count": 12,
   "metadata": {},
   "outputs": [],
   "source": [
    "# ^_^ Thank You"
   ]
  }
 ],
 "metadata": {
  "kernelspec": {
   "display_name": "Python 3",
   "language": "python",
   "name": "python3"
  },
  "language_info": {
   "codemirror_mode": {
    "name": "ipython",
    "version": 3
   },
   "file_extension": ".py",
   "mimetype": "text/x-python",
   "name": "python",
   "nbconvert_exporter": "python",
   "pygments_lexer": "ipython3",
   "version": "3.7.4"
  }
 },
 "nbformat": 4,
 "nbformat_minor": 2
}
