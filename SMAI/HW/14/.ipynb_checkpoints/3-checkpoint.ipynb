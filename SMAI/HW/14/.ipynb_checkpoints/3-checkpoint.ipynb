{
 "cells": [
  {
   "cell_type": "code",
   "execution_count": 16,
   "metadata": {},
   "outputs": [],
   "source": [
    "import numpy as np\n",
    "import pandas as pd\n",
    "import matplotlib.pyplot as plt\n",
    "from sklearn import svm, metrics\n",
    "from sklearn.pipeline import Pipeline\n",
    "from sklearn.preprocessing import StandardScaler"
   ]
  },
  {
   "cell_type": "code",
   "execution_count": 4,
   "metadata": {},
   "outputs": [
    {
     "name": "stdout",
     "output_type": "stream",
     "text": [
      "(6000, 784) (1000, 784)\n",
      "(6000,) (1000,)\n"
     ]
    }
   ],
   "source": [
    "from __future__ import print_function\n",
    "\n",
    "def read_data(filename):\n",
    "    with open(filename, 'r') as f:\n",
    "        lines = f.readlines()\n",
    "    \n",
    "    num_points = len(lines)\n",
    "    dim_points = 28 * 28\n",
    "    data = np.empty((num_points, dim_points))\n",
    "    labels = np.empty(num_points)\n",
    "    \n",
    "    for ind, line in enumerate(lines):\n",
    "        num = line.split(',')\n",
    "        labels[ind] = int(num[0])\n",
    "        data[ind] = [ int(x) for x in num[1:] ]\n",
    "        \n",
    "    return (data, labels)\n",
    "\n",
    "train_data, train_labels = read_data(\"sample_train.csv\")\n",
    "test_data, test_labels = read_data(\"sample_test.csv\")\n",
    "print(train_data.shape, test_data.shape)\n",
    "print(train_labels.shape, test_labels.shape)"
   ]
  },
  {
   "cell_type": "code",
   "execution_count": 9,
   "metadata": {},
   "outputs": [
    {
     "data": {
      "text/plain": [
       "(array([0., 1., 2., 3., 4., 5., 6., 7., 8., 9.]),\n",
       " array([600, 600, 600, 600, 600, 600, 600, 600, 600, 600]))"
      ]
     },
     "execution_count": 9,
     "metadata": {},
     "output_type": "execute_result"
    }
   ],
   "source": [
    "np.unique(train_labels, return_counts=True)"
   ]
  },
  {
   "cell_type": "code",
   "execution_count": 14,
   "metadata": {},
   "outputs": [
    {
     "name": "stderr",
     "output_type": "stream",
     "text": [
      "/home/zubair/anaconda3/envs/SMAI/lib/python3.7/site-packages/sklearn/svm/base.py:193: FutureWarning: The default value of gamma will change from 'auto' to 'scale' in version 0.22 to account better for unscaled features. Set gamma explicitly to 'auto' or 'scale' to avoid this warning.\n",
      "  \"avoid this warning.\", FutureWarning)\n"
     ]
    },
    {
     "name": "stdout",
     "output_type": "stream",
     "text": [
      "Classification report for classifier SVC(C=1.0, cache_size=200, class_weight=None, coef0=0.0,\n",
      "    decision_function_shape='ovr', degree=2, gamma='auto_deprecated',\n",
      "    kernel='poly', max_iter=-1, probability=False, random_state=None,\n",
      "    shrinking=True, tol=0.001, verbose=False):n              precision    recall  f1-score   support\n",
      "\n",
      "         0.0       0.95      0.98      0.97       100\n",
      "         1.0       0.95      0.99      0.97       100\n",
      "         2.0       0.95      0.91      0.93       100\n",
      "         3.0       0.96      0.89      0.92       100\n",
      "         4.0       0.91      0.96      0.94       100\n",
      "         5.0       0.94      0.95      0.95       100\n",
      "         6.0       0.95      0.95      0.95       100\n",
      "         7.0       0.95      0.92      0.93       100\n",
      "         8.0       0.94      0.91      0.92       100\n",
      "         9.0       0.93      0.97      0.95       100\n",
      "\n",
      "    accuracy                           0.94      1000\n",
      "   macro avg       0.94      0.94      0.94      1000\n",
      "weighted avg       0.94      0.94      0.94      1000\n",
      "n\n",
      "Confusion matrix:n[[98  0  0  0  0  1  1  0  0  0]\n",
      " [ 0 99  0  0  0  0  0  0  1  0]\n",
      " [ 1  1 91  0  1  0  1  2  2  1]\n",
      " [ 0  2  1 89  0  4  1  1  1  1]\n",
      " [ 0  0  0  0 96  0  1  0  0  3]\n",
      " [ 0  0  0  1  1 95  1  0  1  1]\n",
      " [ 2  0  0  0  1  1 95  0  1  0]\n",
      " [ 0  2  3  0  2  0  0 92  0  1]\n",
      " [ 2  0  1  3  2  0  0  1 91  0]\n",
      " [ 0  0  0  0  2  0  0  1  0 97]]\n"
     ]
    }
   ],
   "source": [
    "classifier = svm.SVC(C = 1.0)\n",
    "\n",
    "pipeline = Pipeline([\n",
    "    ('scaling', StandardScaler()),\n",
    "    ('svm', classifier),\n",
    "])\n",
    "\n",
    "train_predicted = pipeline.fit(train_data, train_labels)\n"
   ]
  },
  {
   "cell_type": "code",
   "execution_count": null,
   "metadata": {},
   "outputs": [],
   "source": [
    "\n",
    "predicted = classifier.predict(test_data)\n",
    "print(\"Classification report for classifier %s:n%sn\" % (classifier, metrics.classification_report(test_labels, predicted)))\n",
    "print(\"Confusion matrix:n%s\" % metrics.confusion_matrix(test_labels, predicted))"
   ]
  }
 ],
 "metadata": {
  "kernelspec": {
   "display_name": "Python 3",
   "language": "python",
   "name": "python3"
  },
  "language_info": {
   "codemirror_mode": {
    "name": "ipython",
    "version": 3
   },
   "file_extension": ".py",
   "mimetype": "text/x-python",
   "name": "python",
   "nbconvert_exporter": "python",
   "pygments_lexer": "ipython3",
   "version": "3.7.4"
  }
 },
 "nbformat": 4,
 "nbformat_minor": 2
}
