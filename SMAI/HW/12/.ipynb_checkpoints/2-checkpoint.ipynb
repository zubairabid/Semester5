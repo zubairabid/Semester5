{
 "cells": [
  {
   "cell_type": "code",
   "execution_count": 1,
   "metadata": {},
   "outputs": [],
   "source": [
    "import numpy as np\n",
    "import matplotlib as plt"
   ]
  },
  {
   "cell_type": "code",
   "execution_count": 3,
   "metadata": {},
   "outputs": [],
   "source": [
    "points = [\n",
    "    [1, 1, 1],\n",
    "    [-1, -1, 1],\n",
    "    [2, 2, 1],\n",
    "    [-2, -2, 1],\n",
    "    [-1, 1, 1],\n",
    "    [1, -1, 1]\n",
    "]\n",
    "points = np.array(points)\n",
    "labels = np.array([-1, -1, 1, -1, 1, 1])"
   ]
  },
  {
   "cell_type": "code",
   "execution_count": null,
   "metadata": {},
   "outputs": [],
   "source": [
    "def batch_perceptron(w, iteration=0):\n",
    "    \n",
    "    iteration += 1\n",
    "    if iteration > 100:\n",
    "        return (0, 0, 0)\n",
    "    \n",
    "    errors = []\n",
    "    error_label_real = []\n",
    "    n = 0.3\n",
    "    \n",
    "    # Check for errors\n",
    "    for ind, point in enumerate(points):\n",
    "        if np.dot(w, point)*labels[ind] < 0:\n",
    "            errors.append(point)\n",
    "            error_label_real.append(labels[ind])\n",
    "    # In case of no errors\n",
    "    if len(errors) < 0:\n",
    "        return w\n",
    "    \n",
    "    errors = np.array(errors)\n",
    "    # Updating the w\n",
    "    for ind, error in enumerate(errors):\n",
    "        w = w + n*(error_label_real[ind]*2)*error\n",
    "    \n",
    "    return batch_perceptron(w, iteration=iteration)"
   ]
  }
 ],
 "metadata": {
  "kernelspec": {
   "display_name": "Python 3",
   "language": "python",
   "name": "python3"
  },
  "language_info": {
   "codemirror_mode": {
    "name": "ipython",
    "version": 3
   },
   "file_extension": ".py",
   "mimetype": "text/x-python",
   "name": "python",
   "nbconvert_exporter": "python",
   "pygments_lexer": "ipython3",
   "version": "3.7.4"
  }
 },
 "nbformat": 4,
 "nbformat_minor": 2
}
