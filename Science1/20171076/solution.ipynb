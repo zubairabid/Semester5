{
 "cells": [
  {
   "cell_type": "code",
   "execution_count": 29,
   "metadata": {},
   "outputs": [],
   "source": [
    "import math\n",
    "from random import random\n",
    "import operator as op\n",
    "from functools import reduce\n",
    "import numpy as np\n",
    "from matplotlib import pyplot as plt"
   ]
  },
  {
   "cell_type": "code",
   "execution_count": null,
   "metadata": {},
   "outputs": [],
   "source": []
  },
  {
   "cell_type": "code",
   "execution_count": 41,
   "metadata": {},
   "outputs": [],
   "source": [
    "def simulate(simulations=10000):\n",
    "    p_ = np.zeros((100,))\n",
    "    \n",
    "    for n in range(1, 100):\n",
    "        count = 0\n",
    "        \n",
    "        for i in range(simulations):\n",
    "            if move(n):\n",
    "                count += 1\n",
    "                \n",
    "        p_[n-1] = count/n\n",
    "    \n",
    "    plt.figure(1)\n",
    "    plt.subplot(211)\n",
    "    plt.plot(p_)\n",
    "    plt.xlabel('N')\n",
    "    plt.ylabel('P(N)')\n",
    "    plt.title('Experimental')\n",
    "    \n",
    "    plt.subplot(212)\n",
    "    plt.plot(plot_th(simulations))\n",
    "    plt.xlabel('N')\n",
    "    plt.ylabel('P(N)')\n",
    "    plt.title('Modelled')\n",
    "    \n",
    "    plt.savefig('trial'+str(simulations)+\".png\")"
   ]
  },
  {
   "cell_type": "code",
   "execution_count": 19,
   "metadata": {},
   "outputs": [],
   "source": [
    "def move(n):\n",
    "    p1 = p2 = 0\n",
    "    for i in range(n):\n",
    "        p1 += 1*np.sign(math.log(random()+0.5))\n",
    "        p2 += 1*np.sign(math.log(random()+0.5))\n",
    "        \n",
    "    return p1 == p2"
   ]
  },
  {
   "cell_type": "code",
   "execution_count": 36,
   "metadata": {},
   "outputs": [],
   "source": [
    "def plot_th(simulations=10000):\n",
    "    values = np.zeros((simulations,))\n",
    "    for i in range(1, 100):\n",
    "        values[i-1] = ncr(2*i, i)/math.pow(2, 2*i)\n",
    "    return values\n",
    "\n",
    "def ncr(n, r):\n",
    "    r = min(r, n-r)\n",
    "    return reduce(op.mul, range(n, n-r, -1), 1)/reduce(op.mul, range(1, r+1), 1)\n"
   ]
  },
  {
   "cell_type": "code",
   "execution_count": 42,
   "metadata": {},
   "outputs": [
    {
     "data": {
      "image/png": "[encoded data removed]",
      "text/plain": [
       "<Figure size 432x288 with 2 Axes>"
      ]
     },
     "metadata": {
      "needs_background": "light"
     },
     "output_type": "display_data"
    }
   ],
   "source": [
    "simulate(simulations=100)"
   ]
  },
  {
   "cell_type": "code",
   "execution_count": null,
   "metadata": {},
   "outputs": [],
   "source": [
    "simulate()"
   ]
  }
 ],
 "metadata": {
  "kernelspec": {
   "display_name": "Python 3",
   "language": "python",
   "name": "python3"
  },
  "language_info": {
   "codemirror_mode": {
    "name": "ipython",
    "version": 3
   },
   "file_extension": ".py",
   "mimetype": "text/x-python",
   "name": "python",
   "nbconvert_exporter": "python",
   "pygments_lexer": "ipython3",
   "version": "3.7.4"
  }
 },
 "nbformat": 4,
 "nbformat_minor": 4
}
